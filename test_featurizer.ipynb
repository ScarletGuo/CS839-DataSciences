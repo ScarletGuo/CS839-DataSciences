{
 "cells": [
  {
   "cell_type": "code",
   "execution_count": 1,
   "metadata": {},
   "outputs": [
    {
     "name": "stderr",
     "output_type": "stream",
     "text": [
      "/mydata/anaconda2/lib/python2.7/site-packages/sklearn/ensemble/weight_boosting.py:29: DeprecationWarning: numpy.core.umath_tests is an internal NumPy module and should not be imported. It will be removed in a future NumPy release.\n",
      "  from numpy.core.umath_tests import inner1d\n"
     ]
    }
   ],
   "source": [
    "from main import *"
   ]
  },
  {
   "cell_type": "code",
   "execution_count": 2,
   "metadata": {
    "scrolled": true
   },
   "outputs": [],
   "source": [
    "ni = NameIdentifier(num_workers=5, from_csv=True, demo=False)"
   ]
  },
  {
   "cell_type": "code",
   "execution_count": 3,
   "metadata": {},
   "outputs": [
    {
     "name": "stdout",
     "output_type": "stream",
     "text": [
      "********** FIRST CV **********\n",
      "Using 0. DecisionTreeClassifier\n",
      "Using 1. RandomForestClassifier\n",
      "Using 2. SVC\n",
      "Using 3. LinearRegression\n",
      "ERROR running LinearRegression(copy_X=True, fit_intercept=True, n_jobs=1, normalize=False): Classification metrics can't handle a mix of binary and continuous targets\n",
      "Using 4. LogisticRegression\n",
      "Training finished: the best classifier is DecisionTreeClassifier(class_weight=None, criterion='gini', max_depth=9,\n",
      "            max_features=None, max_leaf_nodes=None,\n",
      "            min_impurity_decrease=0.0, min_impurity_split=None,\n",
      "            min_samples_leaf=1, min_samples_split=2,\n",
      "            min_weight_fraction_leaf=0.0, presort=False, random_state=None,\n",
      "            splitter='best'). Its best F1 score is 0.849167745608.\n",
      "\n",
      "********** DEBUG **********\n",
      "- Precision(P) = 103/123 = 0.8374\n",
      "- Recall(R) = 103/127 = 0.8110\n",
      "- F1 = 0.8240\n",
      "\n"
     ]
    }
   ],
   "source": [
    "debug = ni.run()"
   ]
  },
  {
   "cell_type": "code",
   "execution_count": 4,
   "metadata": {},
   "outputs": [
    {
     "name": "stdout",
     "output_type": "stream",
     "text": [
      "********** TEST **********\n",
      "Before rule-based postprocessing step:\n",
      "\n",
      "- Precision(P) = 289/318 = 0.9088\n",
      "- Recall(R) = 289/348 = 0.8305\n",
      "- F1 = 0.8679\n",
      "\n",
      "After rule-based postprocessing step:\n",
      "\n",
      "- Precision(P) = 285/313 = 0.9105\n",
      "- Recall(R) = 285/348 = 0.8190\n",
      "- F1 = 0.8623\n",
      "\n"
     ]
    }
   ],
   "source": [
    "wrong_bf, wrong_af = ni.test()"
   ]
  },
  {
   "cell_type": "code",
   "execution_count": null,
   "metadata": {},
   "outputs": [],
   "source": []
  }
 ],
 "metadata": {
  "kernelspec": {
   "display_name": "Python 2",
   "language": "python",
   "name": "python2"
  },
  "language_info": {
   "codemirror_mode": {
    "name": "ipython",
    "version": 2
   },
   "file_extension": ".py",
   "mimetype": "text/x-python",
   "name": "python",
   "nbconvert_exporter": "python",
   "pygments_lexer": "ipython2",
   "version": "2.7.15"
  }
 },
 "nbformat": 4,
 "nbformat_minor": 2
}
