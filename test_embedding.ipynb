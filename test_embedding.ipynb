{
 "cells": [
  {
   "cell_type": "code",
   "execution_count": 1,
   "metadata": {},
   "outputs": [],
   "source": [
    "from embedding import Embedding"
   ]
  },
  {
   "cell_type": "code",
   "execution_count": 2,
   "metadata": {},
   "outputs": [],
   "source": [
    "training_set = 'data/original/train/'"
   ]
  },
  {
   "cell_type": "code",
   "execution_count": 14,
   "metadata": {},
   "outputs": [],
   "source": [
    "def test(ebd):\n",
    "    print(\"1: %.6f\"%ebd.get_similarity('Duke Mu','King Zhaoxiang'))\n",
    "    print(\"2: %.6f\"%ebd.get_similarity('Duke Qi','Duke Mu'))\n",
    "    print(\"3: %.6f\"%ebd.get_similarity('Duke Qi','killed'))"
   ]
  },
  {
   "cell_type": "code",
   "execution_count": 11,
   "metadata": {},
   "outputs": [],
   "source": [
    "# model: word2vec or fasttext\n",
    "embed = Embedding(training_set, model='fasttext')"
   ]
  },
  {
   "cell_type": "code",
   "execution_count": 15,
   "metadata": {},
   "outputs": [
    {
     "name": "stdout",
     "output_type": "stream",
     "text": [
      "1: 0.399904\n",
      "2: 0.988530\n",
      "3: 0.405583\n",
      "1: 0.399904\n",
      "2: 0.988530\n",
      "3: 0.405583\n"
     ]
    }
   ],
   "source": [
    "test(embed)"
   ]
  },
  {
   "cell_type": "code",
   "execution_count": 5,
   "metadata": {},
   "outputs": [],
   "source": [
    "embed1 = Embedding(training_set, model='word2vec')"
   ]
  },
  {
   "cell_type": "code",
   "execution_count": 16,
   "metadata": {},
   "outputs": [
    {
     "name": "stdout",
     "output_type": "stream",
     "text": [
      "1: 0.666942\n",
      "2: 0.856525\n",
      "3: 0.564763\n",
      "1: 0.666942\n",
      "2: 0.856525\n",
      "3: 0.564763\n"
     ]
    }
   ],
   "source": [
    "test(embed1)"
   ]
  },
  {
   "cell_type": "code",
   "execution_count": null,
   "metadata": {},
   "outputs": [],
   "source": []
  }
 ],
 "metadata": {
  "kernelspec": {
   "display_name": "Python 2",
   "language": "python",
   "name": "python2"
  },
  "language_info": {
   "codemirror_mode": {
    "name": "ipython",
    "version": 2
   },
   "file_extension": ".py",
   "mimetype": "text/x-python",
   "name": "python",
   "nbconvert_exporter": "python",
   "pygments_lexer": "ipython2",
   "version": "2.7.14"
  }
 },
 "nbformat": 4,
 "nbformat_minor": 2
}
